{
 "cells": [
  {
   "cell_type": "markdown",
   "metadata": {},
   "source": [
    "### 206. Reverse Linked List"
   ]
  },
  {
   "cell_type": "markdown",
   "metadata": {},
   "source": [
    "Reverse a singly linked list."
   ]
  },
  {
   "cell_type": "markdown",
   "metadata": {},
   "source": [
    "Input: 1->2->3->4->5->NULL\n",
    "\n",
    "Output: 5->4->3->2->1->NULL"
   ]
  },
  {
   "cell_type": "code",
   "execution_count": 1,
   "metadata": {
    "collapsed": true
   },
   "outputs": [],
   "source": [
    "# Definition for singly-linked list.\n",
    "# class ListNode(object):\n",
    "#     def __init__(self, x):\n",
    "#         self.val = x\n",
    "#         self.next = None\n",
    "\n",
    "class Solution(object):\n",
    "    def reverseList(self, head):\n",
    "        \"\"\"\n",
    "        :type head: ListNode\n",
    "        :rtype: ListNode\n",
    "        \"\"\"\n",
    "        pre = None # create a place holder for pre\n",
    "        cur = head\n",
    "        \n",
    "        while cur: # loop through the list\n",
    "            nextTemp = cur.next # we want to change next node to pre, so we first store the original value of next node\n",
    "            cur.next = pre # key: only this step is actually changing the pointer of the next node.\n",
    "            # update pre & cur for next iteration\n",
    "            pre = cur\n",
    "            cur = nextTemp"
   ]
  },
  {
   "cell_type": "raw",
   "metadata": {},
   "source": [
    "Explanation:\n",
    "Start with 1->2->3, we want to change to 1<-2<-3.\n",
    "\n",
    "Iter 1:\n",
    "pre = null\n",
    "cur = 1\n",
    "nextTemp = 2\n",
    "\n",
    "Now is the step to change the pointer of next node:\n",
    "cur.next = pre = null\n",
    "After this operation, it becomes 1->null\n",
    "\n",
    "The following steps are to prepare for the next iteration:\n",
    "pre = cur = 1\n",
    "cur = nextTemp = 2\n",
    "\n",
    "Iter 2:\n",
    "pre = 1\n",
    "cur = 2\n",
    "nextTemp = 3\n",
    "cur.next = pre = 1\n",
    "After this step, it becomes 2->1->null\n",
    "again, then update pre and cur for next iteration\n",
    "pre = cur = 2\n",
    "cur = nextTemp = 3"
   ]
  },
  {
   "cell_type": "markdown",
   "metadata": {},
   "source": [
    "### 141. Linked List Cycle"
   ]
  },
  {
   "cell_type": "markdown",
   "metadata": {},
   "source": [
    "Given a linked list, determine if it has a cycle in it."
   ]
  },
  {
   "cell_type": "code",
   "execution_count": 2,
   "metadata": {
    "collapsed": true
   },
   "outputs": [],
   "source": [
    "class Solution(object):\n",
    "    def hasCycle(self, head):\n",
    "        \"\"\"\n",
    "        :type head: ListNode\n",
    "        :rtype: bool\n",
    "        \"\"\"\n",
    "        # set two pointers, one travels faster, one slow. if there is a circle, they will meet at some point.\n",
    "        fast, slow = head, head\n",
    "        while fast and fast.next: # make sure fast and fast.next exist, then start to travel\n",
    "            slow = slow.next # slow travel one step at a time\n",
    "            fast =  fast.next.next # fast travel two steps\n",
    "            if slow == fast: # if they meet, there's a circle\n",
    "                return True\n",
    "        return False # if there's no circle, fast will get to the end of the list and while loop will end."
   ]
  },
  {
   "cell_type": "markdown",
   "metadata": {},
   "source": [
    "### 237. Delete Node in a Linked List"
   ]
  },
  {
   "cell_type": "markdown",
   "metadata": {},
   "source": [
    "Write a function to delete a node (except the tail) in a singly linked list, given only access to that node."
   ]
  },
  {
   "cell_type": "markdown",
   "metadata": {},
   "source": [
    "Input: head = [4,5,1,9], node = 5\n",
    "Output: [4,1,9]\n",
    "Explanation: You are given the second node with value 5, the linked list should become 4 -> 1 -> 9 after calling your function."
   ]
  },
  {
   "cell_type": "markdown",
   "metadata": {},
   "source": [
    "The linked list will have at least two elements.\n",
    "All of the nodes' values will be unique.\n",
    "The given node will not be the tail and it will always be a valid node of the linked list.\n",
    "Do not return anything from your function."
   ]
  },
  {
   "cell_type": "code",
   "execution_count": 3,
   "metadata": {
    "collapsed": true
   },
   "outputs": [],
   "source": [
    "class Solution(object):\n",
    "    def deleteNode(self, node):\n",
    "        \"\"\"\n",
    "        :type node: ListNode\n",
    "        :rtype: void Do not return anything, modify node in-place instead.\n",
    "        \"\"\"\n",
    "        node.val = node.next.val\n",
    "        node.next = node.next.next"
   ]
  },
  {
   "cell_type": "markdown",
   "metadata": {},
   "source": [
    "### 83. Remove Duplicates from Sorted List"
   ]
  },
  {
   "cell_type": "markdown",
   "metadata": {},
   "source": [
    "Given a sorted linked list, delete all duplicates such that each element appear only once."
   ]
  },
  {
   "cell_type": "markdown",
   "metadata": {},
   "source": [
    "Input: 1->1->2->3->3\n",
    "Output: 1->2->3"
   ]
  },
  {
   "cell_type": "code",
   "execution_count": 4,
   "metadata": {
    "collapsed": true
   },
   "outputs": [],
   "source": [
    "class Solution(object):\n",
    "    def deleteDuplicates(self, head):\n",
    "        \"\"\"\n",
    "        :type head: ListNode\n",
    "        :rtype: ListNode\n",
    "        \"\"\"\n",
    "        cur = head\n",
    "        while cur and cur.next:\n",
    "            if cur.val == cur.next.val:\n",
    "                cur.next = cur.next.next # for linked list problems, if put cur.next on the left of =, it means we are actually changing the pointer\n",
    "            else:\n",
    "                cur = cur.next # if we put cur.next on the right, it just means we are moving to the next element.\n",
    "        return head"
   ]
  },
  {
   "cell_type": "markdown",
   "metadata": {},
   "source": [
    "### 203. Remove Linked List Elements"
   ]
  },
  {
   "cell_type": "markdown",
   "metadata": {},
   "source": [
    "Remove all elements from a linked list of integers that have value val."
   ]
  },
  {
   "cell_type": "markdown",
   "metadata": {},
   "source": [
    "Input:  1->2->6->3->4->5->6, val = 6\n",
    "Output: 1->2->3->4->5"
   ]
  },
  {
   "cell_type": "code",
   "execution_count": 5,
   "metadata": {
    "collapsed": true
   },
   "outputs": [],
   "source": [
    "class Solution(object):\n",
    "    def removeElements(self, head, val):\n",
    "        \"\"\"\n",
    "        :type head: ListNode\n",
    "        :type val: int\n",
    "        :rtype: ListNode\n",
    "        \"\"\"\n",
    "        # we can only manipulate linked list by changing the pointer of node.next, so if the val to be removed is the\n",
    "        # first element, we need a different logic to do it.\n",
    "        while head and head.val == val: # if the first element has to be removed\n",
    "            head = head.next # change head\n",
    "        cur = head # if the first element is safe, start normal travel process\n",
    "        while cur and cur.next:\n",
    "            if cur.next.val == val: # if value match, change cur.next pointer to the one after next\n",
    "                cur.next = cur.next.next\n",
    "            else:\n",
    "                cur = cur.next # if not match, travel to next node\n",
    "        return head"
   ]
  },
  {
   "cell_type": "markdown",
   "metadata": {},
   "source": [
    "### 160. Intersection of Two Linked Lists"
   ]
  },
  {
   "cell_type": "markdown",
   "metadata": {},
   "source": [
    "Write a program to find the node at which the intersection of two singly linked lists begins.\n",
    "\n",
    "For example, the following two linked lists:"
   ]
  },
  {
   "cell_type": "markdown",
   "metadata": {},
   "source": [
    "Input: intersectVal = 8, listA = [4,1,8,4,5], listB = [5,0,1,8,4,5], skipA = 2, skipB = 3\n",
    "Output: Reference of the node with value = 8"
   ]
  },
  {
   "cell_type": "markdown",
   "metadata": {},
   "source": [
    "Maintain two pointers pApA and pBpB initialized at the head of A and B, respectively. Then let them both traverse through the lists, one node at a time.\n",
    "\n",
    "When pApA reaches the end of a list, then redirect it to the head of B (yes, B, that's right.); similarly when pBpB reaches the end of a list, redirect it the head of A.\n",
    "\n",
    "If at any point pApA meets pBpB, then pApA/pBpB is the intersection node.\n",
    "\n",
    "To see why the above trick would work, consider the following two lists: A = {1,3,5,7,9,11} and B = {2,4,9,11}, which are intersected at node '9'. Since B.length (=4) < A.length (=6), pBpB would reach the end of the merged list first, because pBpB traverses exactly 2 nodes less than pApA does. By redirecting pBpB to head A, and pApA to head B, we now ask pBpB to travel exactly 2 more nodes than pApA would. So in the second iteration, they are guaranteed to reach the intersection node at the same time.\n",
    "\n",
    "If two lists have intersection, then their last nodes must be the same one. So when pApA/pBpB reaches the end of a list, record the last element of A/B respectively. If the two last elements are not the same one, then the two lists have no intersections."
   ]
  },
  {
   "cell_type": "code",
   "execution_count": 6,
   "metadata": {
    "collapsed": true
   },
   "outputs": [],
   "source": [
    "class Solution(object):\n",
    "    def getIntersectionNode(self, headA, headB):\n",
    "        \"\"\"\n",
    "        :type head1, head1: ListNode\n",
    "        :rtype: ListNode\n",
    "        \"\"\"\n",
    "        if not headA or not headB:\n",
    "            return None\n",
    "        curA = headA\n",
    "        curB = headB\n",
    "        while curA != curB: # while not met\n",
    "            if not curA: # if curA travels to the end, redirect to headB\n",
    "                curA = headB\n",
    "            else: # if not, keep traveling on original list\n",
    "                curA = curA.next\n",
    "            if not curB:\n",
    "                curB = headA\n",
    "            else:\n",
    "                curB = curB.next\n",
    "        return curA # when A and B meets, while loop breaks, we have the intersection. if they not meet, they will hit the end at the same time, then curA=curB=None"
   ]
  },
  {
   "cell_type": "code",
   "execution_count": 7,
   "metadata": {
    "collapsed": true
   },
   "outputs": [],
   "source": [
    "## hash table solution\n",
    "class Solution(object):\n",
    "    def getIntersectionNode(self, headA, headB):\n",
    "        \"\"\"\n",
    "        :type head1, head1: ListNode\n",
    "        :rtype: ListNode\n",
    "        \"\"\"\n",
    "        if not headA or not headB:\n",
    "            return None\n",
    "        curA = headA\n",
    "        curB = headB\n",
    "        l = []\n",
    "        while curA:\n",
    "            l.append(curA) # travel through the first list and put every node into a normal list\n",
    "            curA = curA.next\n",
    "        while curB: # travel through the second list, if any node already in l, we have an intersection\n",
    "            if curB in l:\n",
    "                return curB\n",
    "            else:\n",
    "                curB = curB.next\n",
    "        return None"
   ]
  },
  {
   "cell_type": "markdown",
   "metadata": {},
   "source": [
    "### 21. Merge Two Sorted Lists"
   ]
  },
  {
   "cell_type": "markdown",
   "metadata": {},
   "source": [
    "Merge two sorted linked lists and return it as a new list. The new list should be made by splicing together the nodes of the first two lists."
   ]
  },
  {
   "cell_type": "markdown",
   "metadata": {},
   "source": [
    "Input: 1->2->4, 1->3->4\n",
    "Output: 1->1->2->3->4->4"
   ]
  },
  {
   "cell_type": "code",
   "execution_count": 8,
   "metadata": {
    "collapsed": true
   },
   "outputs": [],
   "source": [
    "class Solution(object):\n",
    "    def mergeTwoLists(self, l1, l2):\n",
    "        \"\"\"\n",
    "        :type l1: ListNode\n",
    "        :type l2: ListNode\n",
    "        :rtype: ListNode\n",
    "        \"\"\"\n",
    "        if l1 is None: return l2\n",
    "        if l2 is None: return l1\n",
    "        if l1 is None and l2 is None: return None \n",
    "\n",
    "        head = ListNode(0) # create a dummy head to hold the new merged list\n",
    "        cur = head\n",
    "\n",
    "        while l1 and l2: # while l1 and l2 both exist (not reach to the end)\n",
    "\n",
    "            if l1.val > l2.val:\n",
    "                cur.next = l2\n",
    "                l2 = l2.next\n",
    "\n",
    "            else:\n",
    "                cur.next = l1\n",
    "                l1 = l1.next\n",
    "\n",
    "            cur = cur.next # travel through the new list\n",
    "\n",
    "        cur.next = l1 or l2 # when either list reaches the end, append the rest of the other\n",
    "\n",
    "        return head.next"
   ]
  },
  {
   "cell_type": "code",
   "execution_count": null,
   "metadata": {
    "collapsed": true
   },
   "outputs": [],
   "source": []
  }
 ],
 "metadata": {
  "kernelspec": {
   "display_name": "Python [default]",
   "language": "python",
   "name": "python2"
  },
  "language_info": {
   "codemirror_mode": {
    "name": "ipython",
    "version": 2
   },
   "file_extension": ".py",
   "mimetype": "text/x-python",
   "name": "python",
   "nbconvert_exporter": "python",
   "pygments_lexer": "ipython2",
   "version": "2.7.13"
  }
 },
 "nbformat": 4,
 "nbformat_minor": 2
}
