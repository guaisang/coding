{
 "cells": [
  {
   "cell_type": "code",
   "execution_count": 8,
   "metadata": {
    "collapsed": true
   },
   "outputs": [],
   "source": [
    "from collections import defaultdict\n",
    " \n",
    "def hashJoin(table1, index1, table2, index2):\n",
    "    h = defaultdict(list)\n",
    "    # hash phase\n",
    "    for s in table1:\n",
    "        h[s[index1]].append(s)\n",
    "    # join phase\n",
    "    return [(s, r) for r in table2 for s in h[r[index2]]]\n",
    " \n"
   ]
  },
  {
   "cell_type": "code",
   "execution_count": 9,
   "metadata": {},
   "outputs": [
    {
     "name": "stdout",
     "output_type": "stream",
     "text": [
      "((27, 'Jonah'), ('Jonah', 'Whales'))\n",
      "((27, 'Jonah'), ('Jonah', 'Spiders'))\n",
      "((18, 'Alan'), ('Alan', 'Ghosts'))\n",
      "((28, 'Alan'), ('Alan', 'Ghosts'))\n",
      "((18, 'Alan'), ('Alan', 'Zombies'))\n",
      "((28, 'Alan'), ('Alan', 'Zombies'))\n",
      "((28, 'Glory'), ('Glory', 'Buffy'))\n"
     ]
    }
   ],
   "source": [
    "table1 = [(27, \"Jonah\"),\n",
    "          (18, \"Alan\"),\n",
    "          (28, \"Glory\"),\n",
    "          (18, \"Popeye\"),\n",
    "          (28, \"Alan\")]\n",
    "table2 = [(\"Jonah\", \"Whales\"),\n",
    "          (\"Jonah\", \"Spiders\"),\n",
    "          (\"Alan\", \"Ghosts\"),\n",
    "          (\"Alan\", \"Zombies\"),\n",
    "          (\"Glory\", \"Buffy\")]\n",
    " \n",
    "for row in hashJoin(table1, 1, table2, 0):\n",
    "    print(row)"
   ]
  },
  {
   "cell_type": "code",
   "execution_count": 7,
   "metadata": {},
   "outputs": [
    {
     "data": {
      "text/plain": [
       "defaultdict(list,\n",
       "            {'Alan': [(18, 'Alan'), (28, 'Alan')],\n",
       "             'Glory': [(28, 'Glory')],\n",
       "             'Jonah': [(27, 'Jonah')],\n",
       "             'Popeye': [(18, 'Popeye')]})"
      ]
     },
     "execution_count": 7,
     "metadata": {},
     "output_type": "execute_result"
    }
   ],
   "source": [
    "hashJoin(table1, 1, table2, 0)"
   ]
  },
  {
   "cell_type": "code",
   "execution_count": 10,
   "metadata": {
    "collapsed": true
   },
   "outputs": [],
   "source": [
    "new = hashJoin(table1, 1, table2, 0)"
   ]
  }
 ],
 "metadata": {
  "kernelspec": {
   "display_name": "Python [default]",
   "language": "python",
   "name": "python2"
  },
  "language_info": {
   "codemirror_mode": {
    "name": "ipython",
    "version": 2
   },
   "file_extension": ".py",
   "mimetype": "text/x-python",
   "name": "python",
   "nbconvert_exporter": "python",
   "pygments_lexer": "ipython2",
   "version": "2.7.13"
  }
 },
 "nbformat": 4,
 "nbformat_minor": 2
}
