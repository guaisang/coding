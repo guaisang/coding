{
 "cells": [
  {
   "cell_type": "code",
   "execution_count": 3,
   "metadata": {
    "collapsed": true
   },
   "outputs": [],
   "source": [
    "\"\"\"Implement a function recursively to get the desired\n",
    "Fibonacci sequence value.\n",
    "Your code should have the same input/output as the \n",
    "iterative code in the instructions.\"\"\"\n",
    "\n",
    "def get_fib(position):\n",
    "    if position == 0:\n",
    "        return 0\n",
    "    if position == 1:\n",
    "        return 1\n",
    "    return get_fib(position-1) + get_fib(position-2)"
   ]
  },
  {
   "cell_type": "code",
   "execution_count": 4,
   "metadata": {},
   "outputs": [
    {
     "name": "stdout",
     "output_type": "stream",
     "text": [
      "34\n",
      "89\n",
      "0\n"
     ]
    }
   ],
   "source": [
    "# Test cases\n",
    "print get_fib(9)\n",
    "print get_fib(11)\n",
    "print get_fib(0)"
   ]
  },
  {
   "cell_type": "code",
   "execution_count": null,
   "metadata": {
    "collapsed": true
   },
   "outputs": [],
   "source": []
  }
 ],
 "metadata": {
  "kernelspec": {
   "display_name": "Python [conda root]",
   "language": "python",
   "name": "conda-root-py"
  },
  "language_info": {
   "codemirror_mode": {
    "name": "ipython",
    "version": 2
   },
   "file_extension": ".py",
   "mimetype": "text/x-python",
   "name": "python",
   "nbconvert_exporter": "python",
   "pygments_lexer": "ipython2",
   "version": "2.7.13"
  }
 },
 "nbformat": 4,
 "nbformat_minor": 2
}
