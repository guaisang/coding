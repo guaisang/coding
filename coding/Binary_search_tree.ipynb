{
 "cells": [
  {
   "cell_type": "code",
   "execution_count": 3,
   "metadata": {
    "collapsed": true
   },
   "outputs": [],
   "source": [
    "class Node(object):\n",
    "    def __init__(self, value):\n",
    "        self.value = value\n",
    "        self.left = None\n",
    "        self.right = None\n",
    "\n",
    "class BST(object):\n",
    "    def __init__(self, root):\n",
    "        self.root = Node(root)\n",
    "\n",
    "    def insert(self, new_val):\n",
    "        self.binary_insert(self.root, new_val)\n",
    "\n",
    "    def search(self, find_val):\n",
    "        return self.binary_search(self.root, find_val)\n",
    "        return False\n",
    "    def binary_search(self, start, find_val):\n",
    "        if start:\n",
    "            if start.value == find_val:\n",
    "                return True\n",
    "            elif start.value > find_val:\n",
    "                return self.binary_search(start.left, find_val)\n",
    "            else:\n",
    "                return self.binary_search(start.right, find_val)\n",
    "        return False\n",
    "    def binary_insert(self, start, new_val):\n",
    "        if start:\n",
    "            if start.value > new_val:\n",
    "                if start.left == None:\n",
    "                    start.left = Node(new_val)\n",
    "                else:\n",
    "                    self.binary_insert(start.left, new_val)\n",
    "            else:\n",
    "                if start.right == None:\n",
    "                    start.right = Node(new_val)\n",
    "                else:\n",
    "                    self.binary_insert(start.right, new_val)\n",
    "        else:\n",
    "            start = Node(new_val)"
   ]
  },
  {
   "cell_type": "code",
   "execution_count": 4,
   "metadata": {},
   "outputs": [
    {
     "name": "stdout",
     "output_type": "stream",
     "text": [
      "True\n",
      "False\n"
     ]
    }
   ],
   "source": [
    "# Set up tree\n",
    "tree = BST(4)\n",
    "\n",
    "# Insert elements\n",
    "tree.insert(2)\n",
    "tree.insert(1)\n",
    "tree.insert(3)\n",
    "tree.insert(5)\n",
    "\n",
    "# Check search\n",
    "# Should be True\n",
    "print tree.search(4)\n",
    "# Should be False\n",
    "print tree.search(6)"
   ]
  },
  {
   "cell_type": "code",
   "execution_count": null,
   "metadata": {
    "collapsed": true
   },
   "outputs": [],
   "source": []
  }
 ],
 "metadata": {
  "kernelspec": {
   "display_name": "Python [conda root]",
   "language": "python",
   "name": "conda-root-py"
  },
  "language_info": {
   "codemirror_mode": {
    "name": "ipython",
    "version": 2
   },
   "file_extension": ".py",
   "mimetype": "text/x-python",
   "name": "python",
   "nbconvert_exporter": "python",
   "pygments_lexer": "ipython2",
   "version": "2.7.13"
  }
 },
 "nbformat": 4,
 "nbformat_minor": 2
}
