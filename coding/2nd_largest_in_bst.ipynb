{
 "cells": [
  {
   "cell_type": "code",
   "execution_count": 7,
   "metadata": {
    "collapsed": true
   },
   "outputs": [],
   "source": [
    "# Definition for a binary tree node.\n",
    "class TreeNode(object):\n",
    "    def __init__(self, x):\n",
    "        self.value = x\n",
    "        self.left = None\n",
    "        self.right = None"
   ]
  },
  {
   "cell_type": "code",
   "execution_count": 8,
   "metadata": {
    "collapsed": true
   },
   "outputs": [],
   "source": [
    "def find_largest(root):\n",
    "    current = root\n",
    "    # Find the largest node by traversing down the tree\n",
    "    while current:\n",
    "        if not current.right:    # If there is no more right node\n",
    "            return current.value # The current node is the largest\n",
    "        current = current.right  # Move down the tree one step to the right"
   ]
  },
  {
   "cell_type": "code",
   "execution_count": 9,
   "metadata": {
    "collapsed": true
   },
   "outputs": [],
   "source": [
    "def find_second_largest(root):\n",
    "    # Check if there is a root node:\n",
    "    if root is None or (root.left is None and root.right is None):\n",
    "        raise ValueError('Tree must have at least 2 nodes')\n",
    "    \n",
    "    current = root\n",
    "    # Traverse down the tree\n",
    "    while current:\n",
    "        # Case 1: current is largest and has a left subtree\n",
    "        # 2nd largest is the largest in that subtree (right most node)\n",
    "        if current.left and not current.right: # If there is a left subtree\n",
    "            return find_largest(current.left)\n",
    "        # Case 2: current is the parent of largest, and largest has no child\n",
    "        # so current is 2nd largest\n",
    "        if current.right and not current.right.left and not current.right.right:\n",
    "            return current.value\n",
    "        \n",
    "        current = current.right"
   ]
  },
  {
   "cell_type": "code",
   "execution_count": 10,
   "metadata": {
    "collapsed": true
   },
   "outputs": [],
   "source": [
    "root = TreeNode(5)\n",
    "root.left = TreeNode(3)\n",
    "root.right = TreeNode(8)\n",
    "root.left.left = TreeNode(1)\n",
    "root.right.left = TreeNode(7)\n",
    "root.right.right = TreeNode(10)"
   ]
  },
  {
   "cell_type": "code",
   "execution_count": 11,
   "metadata": {},
   "outputs": [
    {
     "data": {
      "text/plain": [
       "8"
      ]
     },
     "execution_count": 11,
     "metadata": {},
     "output_type": "execute_result"
    }
   ],
   "source": [
    "find_second_largest(root)"
   ]
  },
  {
   "cell_type": "code",
   "execution_count": null,
   "metadata": {
    "collapsed": true
   },
   "outputs": [],
   "source": []
  }
 ],
 "metadata": {
  "kernelspec": {
   "display_name": "Python [conda root]",
   "language": "python",
   "name": "conda-root-py"
  },
  "language_info": {
   "codemirror_mode": {
    "name": "ipython",
    "version": 2
   },
   "file_extension": ".py",
   "mimetype": "text/x-python",
   "name": "python",
   "nbconvert_exporter": "python",
   "pygments_lexer": "ipython2",
   "version": "2.7.13"
  }
 },
 "nbformat": 4,
 "nbformat_minor": 2
}
