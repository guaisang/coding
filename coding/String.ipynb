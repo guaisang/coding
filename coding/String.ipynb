{
 "cells": [
  {
   "cell_type": "markdown",
   "metadata": {},
   "source": [
    "### 28. Implement strStr()"
   ]
  },
  {
   "cell_type": "markdown",
   "metadata": {},
   "source": [
    "Implement strStr().\n",
    "\n",
    "Return the index of the first occurrence of needle in haystack, or -1 if needle is not part of haystack.return 0 when needle is an empty string"
   ]
  },
  {
   "cell_type": "markdown",
   "metadata": {},
   "source": [
    "Input: haystack = \"hello\", needle = \"ll\"\n",
    "    \n",
    "Output: 2"
   ]
  },
  {
   "cell_type": "code",
   "execution_count": 1,
   "metadata": {
    "collapsed": true
   },
   "outputs": [],
   "source": [
    "class Solution(object):\n",
    "    def strStr(self, haystack, needle):\n",
    "        \"\"\"\n",
    "        :type haystack: str\n",
    "        :type needle: str\n",
    "        :rtype: int\n",
    "        \"\"\"\n",
    "        if needle == '':\n",
    "            return 0\n",
    "        l = len(needle)\n",
    "        for i in range(len(haystack)-l+1):\n",
    "            if haystack[i:i+l] == needle:\n",
    "                return i\n",
    "                break\n",
    "        return -1"
   ]
  },
  {
   "cell_type": "markdown",
   "metadata": {},
   "source": [
    "### 14. Longest Common Prefix"
   ]
  },
  {
   "cell_type": "markdown",
   "metadata": {},
   "source": [
    "Write a function to find the longest common prefix string amongst an array of strings.\n",
    "\n",
    "If there is no common prefix, return an empty string \"\"."
   ]
  },
  {
   "cell_type": "markdown",
   "metadata": {},
   "source": [
    "Input: [\"flower\",\"flow\",\"flight\"]\n",
    "    \n",
    "Output: \"fl\""
   ]
  },
  {
   "cell_type": "code",
   "execution_count": 3,
   "metadata": {
    "collapsed": true
   },
   "outputs": [],
   "source": [
    "class Solution(object):\n",
    "    def longestCommonPrefix(self, strs):\n",
    "        \"\"\"\n",
    "        :type strs: List[str]\n",
    "        :rtype: str\n",
    "        \"\"\"\n",
    "        if not strs:\n",
    "            return \"\"\n",
    "            \n",
    "        for i, letter_group in enumerate(zip(*strs)):\n",
    "            if len(set(letter_group)) > 1:\n",
    "                return strs[0][:i]\n",
    "\n",
    "        else:\n",
    "            return min(strs)"
   ]
  },
  {
   "cell_type": "code",
   "execution_count": 5,
   "metadata": {},
   "outputs": [
    {
     "data": {
      "text/plain": [
       "[('f', 'f', 'f'), ('l', 'l', 'l'), ('o', 'o', 'i'), ('w', 'w', 'g')]"
      ]
     },
     "execution_count": 5,
     "metadata": {},
     "output_type": "execute_result"
    }
   ],
   "source": [
    "strs = [\"flower\",\"flow\",\"flight\"]\n",
    "zip(*strs)"
   ]
  },
  {
   "cell_type": "code",
   "execution_count": 7,
   "metadata": {
    "collapsed": true
   },
   "outputs": [],
   "source": [
    "class Solution(object):\n",
    "    def longestCommonPrefix(self, strs):\n",
    "        \"\"\"\n",
    "        :type strs: List[str]\n",
    "        :rtype: str\n",
    "        \"\"\"\n",
    "        if not strs: return ''\n",
    "        # min returns the string with smallest alphabet order. in the example, it returns flight because i is before o\n",
    "        # max returns flower\n",
    "        s1 = min(strs)\n",
    "        s2 = max(strs)\n",
    "\n",
    "        for i, c in enumerate(s1):\n",
    "            if c != s2[i]:\n",
    "                return s1[:i] #stop until hit the split index\n",
    "        return s1 # after the loop if the stop condition doesn't appear, which means s1=s2, so return either s1 or s2"
   ]
  },
  {
   "cell_type": "code",
   "execution_count": 6,
   "metadata": {},
   "outputs": [
    {
     "data": {
      "text/plain": [
       "'flower'"
      ]
     },
     "execution_count": 6,
     "metadata": {},
     "output_type": "execute_result"
    }
   ],
   "source": [
    "max(strs)"
   ]
  },
  {
   "cell_type": "markdown",
   "metadata": {},
   "source": [
    "### 58. Length of Last Word"
   ]
  },
  {
   "cell_type": "markdown",
   "metadata": {},
   "source": [
    "Given a string s consists of upper/lower-case alphabets and empty space characters ' ', return the length of last word in the string.\n",
    "\n",
    "If the last word does not exist, return 0.\n",
    "\n",
    "Note: A word is defined as a character sequence consists of non-space characters only."
   ]
  },
  {
   "cell_type": "markdown",
   "metadata": {},
   "source": [
    "Input: \"Hello World\"\n",
    "    \n",
    "Output: 5"
   ]
  },
  {
   "cell_type": "code",
   "execution_count": 8,
   "metadata": {
    "collapsed": true
   },
   "outputs": [],
   "source": [
    "class Solution(object):\n",
    "    def lengthOfLastWord(self, s):\n",
    "        \"\"\"\n",
    "        :type s: str\n",
    "        :rtype: int\n",
    "        \"\"\"\n",
    "        if not s:\n",
    "            return 0\n",
    "        ss = s.strip()\n",
    "        l = ss.split(' ')\n",
    "        return len(l[-1])"
   ]
  },
  {
   "cell_type": "code",
   "execution_count": null,
   "metadata": {
    "collapsed": true
   },
   "outputs": [],
   "source": [
    "class Solution(object):\n",
    "    def lengthOfLastWord(self, s):\n",
    "        \"\"\"\n",
    "        :type s: str\n",
    "        :rtype: int\n",
    "        \"\"\"\n",
    "        i = len(s)-1\n",
    "        r = 0\n",
    "        while i>=0 and s[i] == ' ': # first remove trailing spaces.\n",
    "            i -= 1\n",
    "        while i>=0 and s[i] != ' ': # count last word\n",
    "            r += 1\n",
    "            i -= 1\n",
    "        return r"
   ]
  },
  {
   "cell_type": "markdown",
   "metadata": {},
   "source": [
    "### 387. First Unique Character in a String"
   ]
  },
  {
   "cell_type": "markdown",
   "metadata": {},
   "source": [
    "\n",
    "Given a string, find the first non-repeating character in it and return it's index. If it doesn't exist, return -1."
   ]
  },
  {
   "cell_type": "markdown",
   "metadata": {},
   "source": [
    "s = \"leetcode\"\n",
    "return 0.\n",
    "\n",
    "s = \"loveleetcode\",\n",
    "return 2."
   ]
  },
  {
   "cell_type": "code",
   "execution_count": 9,
   "metadata": {
    "collapsed": true
   },
   "outputs": [],
   "source": [
    "class Solution(object):\n",
    "    def firstUniqChar(self, s):\n",
    "        \"\"\"\n",
    "        :type s: str\n",
    "        :rtype: int\n",
    "        \"\"\"\n",
    "        d = {}\n",
    "        for i in s:\n",
    "            if i in d:\n",
    "                d[i] += 1\n",
    "            else:\n",
    "                d[i] = 1\n",
    "        for k in range(len(s)):\n",
    "            if d[s[k]] == 1:\n",
    "                return k\n",
    "        return -1"
   ]
  },
  {
   "cell_type": "markdown",
   "metadata": {},
   "source": [
    "### 383. Ransom Note"
   ]
  },
  {
   "cell_type": "markdown",
   "metadata": {},
   "source": [
    "Given an arbitrary ransom note string and another string containing letters from all the magazines, write a function that will return true if the ransom note can be constructed from the magazines ; otherwise, it will return false.\n",
    "\n",
    "Each letter in the magazine string can only be used once in your ransom note."
   ]
  },
  {
   "cell_type": "markdown",
   "metadata": {},
   "source": [
    "canConstruct(\"a\", \"b\") -> false\n",
    "\n",
    "canConstruct(\"aa\", \"ab\") -> false\n",
    "\n",
    "canConstruct(\"aa\", \"aab\") -> true"
   ]
  },
  {
   "cell_type": "code",
   "execution_count": 10,
   "metadata": {
    "collapsed": true
   },
   "outputs": [],
   "source": [
    "class Solution(object):\n",
    "    def canConstruct(self, ransomNote, magazine):\n",
    "        \"\"\"\n",
    "        :type ransomNote: str\n",
    "        :type magazine: str\n",
    "        :rtype: bool\n",
    "        \"\"\"\n",
    "        r = {}\n",
    "        m = {}\n",
    "        for i in ransomNote:\n",
    "            if i in r:\n",
    "                r[i] += 1\n",
    "            else:\n",
    "                r[i] = 1\n",
    "        for j in magazine:\n",
    "            if j in m:\n",
    "                m[j] += 1\n",
    "            else:\n",
    "                m[j] = 1\n",
    "        for k in r:\n",
    "            if k not in m or r[k] > m[k]:\n",
    "                return False\n",
    "        return True"
   ]
  },
  {
   "cell_type": "markdown",
   "metadata": {},
   "source": [
    "### 344. Reverse String"
   ]
  },
  {
   "cell_type": "markdown",
   "metadata": {},
   "source": [
    "Write a function that reverses a string. The input string is given as an array of characters char[].\n",
    "\n",
    "Do not allocate extra space for another array, you must do this by modifying the input array in-place with O(1) extra memory.\n",
    "\n",
    "You may assume all the characters consist of printable ascii characters."
   ]
  },
  {
   "cell_type": "markdown",
   "metadata": {},
   "source": [
    "Input: [\"h\",\"e\",\"l\",\"l\",\"o\"]\n",
    "    \n",
    "Output: [\"o\",\"l\",\"l\",\"e\",\"h\"]"
   ]
  },
  {
   "cell_type": "code",
   "execution_count": 11,
   "metadata": {
    "collapsed": true
   },
   "outputs": [],
   "source": [
    "class Solution(object):\n",
    "    def reverseString(self, s):\n",
    "        \"\"\"\n",
    "        :type s: List[str]\n",
    "        :rtype: void Do not return anything, modify s in-place instead.\n",
    "        \"\"\"\n",
    "        s[:] = s[::-1]"
   ]
  },
  {
   "cell_type": "code",
   "execution_count": 12,
   "metadata": {
    "collapsed": true
   },
   "outputs": [],
   "source": [
    "class Solution(object):\n",
    "    def reverseString(self, s):\n",
    "        \"\"\"\n",
    "        :type s: List[str]\n",
    "        :rtype: void Do not return anything, modify s in-place instead.\n",
    "        \"\"\"\n",
    "        i, j  = 0, len(s) - 1\n",
    "        while i < j:\n",
    "            s[i], s[j] = s[j], s[i]\n",
    "            i += 1\n",
    "            j -= 1"
   ]
  },
  {
   "cell_type": "markdown",
   "metadata": {},
   "source": [
    "### 345. Reverse Vowels of a String"
   ]
  },
  {
   "cell_type": "markdown",
   "metadata": {},
   "source": [
    "Write a function that takes a string as input and reverse only the vowels of a string."
   ]
  },
  {
   "cell_type": "markdown",
   "metadata": {},
   "source": [
    "Input: \"hello\"\n",
    "    \n",
    "Output: \"holle\""
   ]
  },
  {
   "cell_type": "code",
   "execution_count": 13,
   "metadata": {
    "collapsed": true
   },
   "outputs": [],
   "source": [
    "class Solution(object):\n",
    "    def reverseVowels(self, s):\n",
    "        \"\"\"\n",
    "        :type s: str\n",
    "        :rtype: str\n",
    "        \"\"\"\n",
    "        l = [c for c in s]\n",
    "        i, j  = 0, len(l) - 1\n",
    "        while i < j:\n",
    "            if l[i] in 'aeiouAEIOU' and l[j] in 'aeiouAEIOU':\n",
    "                l[i], l[j] = l[j], l[i]\n",
    "                i += 1\n",
    "                j -= 1\n",
    "            elif l[i] not in 'aeiouAEIOU':\n",
    "                i += 1\n",
    "            elif l[j] not in 'aeiouAEIOU':\n",
    "                j -= 1\n",
    "        return ''.join(l)"
   ]
  },
  {
   "cell_type": "markdown",
   "metadata": {},
   "source": [
    "### 205. Isomorphic Strings"
   ]
  },
  {
   "cell_type": "markdown",
   "metadata": {},
   "source": [
    "Given two strings s and t, determine if they are isomorphic.\n",
    "\n",
    "Two strings are isomorphic if the characters in s can be replaced to get t.\n",
    "\n",
    "All occurrences of a character must be replaced with another character while preserving the order of characters. No two characters may map to the same character but a character may map to itself."
   ]
  },
  {
   "cell_type": "markdown",
   "metadata": {},
   "source": [
    "Input: s = \"foo\", t = \"bar\"\n",
    "Output: false\n",
    "    \n",
    "Input: s = \"paper\", t = \"title\"\n",
    "Output: true"
   ]
  },
  {
   "cell_type": "code",
   "execution_count": 14,
   "metadata": {
    "collapsed": true
   },
   "outputs": [],
   "source": [
    "class Solution(object):\n",
    "    def isIsomorphic(self, s, t):\n",
    "        \"\"\"\n",
    "        :type s: str\n",
    "        :type t: str\n",
    "        :rtype: bool\n",
    "        \"\"\"\n",
    "        return len(set(zip(s,t))) == len(set(s)) == len(set(t))"
   ]
  },
  {
   "cell_type": "code",
   "execution_count": 31,
   "metadata": {
    "collapsed": true
   },
   "outputs": [],
   "source": [
    "def isIsomorphic1(s, t):\n",
    "    d1, d2 = {}, {}\n",
    "    for i, val in enumerate(s):\n",
    "        if val in d1:\n",
    "            d1[val].append(i)\n",
    "        else:\n",
    "            d1[val] = [i]\n",
    "    for i, val in enumerate(t):\n",
    "        if val in d2:\n",
    "            d2[val].append(i)\n",
    "        else:\n",
    "            d2[val] = [i]\n",
    "    return d1, d2, d1.values(), d2.values(), sorted(d1.values()), sorted(d2.values())"
   ]
  },
  {
   "cell_type": "code",
   "execution_count": 32,
   "metadata": {},
   "outputs": [
    {
     "data": {
      "text/plain": [
       "({'a': [1], 'e': [3], 'p': [0, 2], 'r': [4]},\n",
       " {'e': [4], 'i': [1], 'l': [3], 't': [0, 2]},\n",
       " [[1], [0, 2], [4], [3]],\n",
       " [[1], [4], [0, 2], [3]],\n",
       " [[0, 2], [1], [3], [4]],\n",
       " [[0, 2], [1], [3], [4]])"
      ]
     },
     "execution_count": 32,
     "metadata": {},
     "output_type": "execute_result"
    }
   ],
   "source": [
    "isIsomorphic1('paper', 'title')"
   ]
  },
  {
   "cell_type": "markdown",
   "metadata": {},
   "source": [
    "### 290. Word Pattern"
   ]
  },
  {
   "cell_type": "markdown",
   "metadata": {},
   "source": [
    "Given a pattern and a string str, find if str follows the same pattern.\n",
    "\n",
    "Here follow means a full match, such that there is a bijection between a letter in pattern and a non-empty word in str."
   ]
  },
  {
   "cell_type": "markdown",
   "metadata": {},
   "source": [
    "Input: pattern = \"abba\", str = \"dog cat cat dog\"\n",
    "Output: true"
   ]
  },
  {
   "cell_type": "markdown",
   "metadata": {},
   "source": [
    "Input:pattern = \"abba\", str = \"dog cat cat fish\"\n",
    "Output: false"
   ]
  },
  {
   "cell_type": "code",
   "execution_count": 15,
   "metadata": {
    "collapsed": true
   },
   "outputs": [],
   "source": [
    "class Solution(object):\n",
    "    def wordPattern(self, pattern, str):\n",
    "        \"\"\"\n",
    "        :type pattern: str\n",
    "        :type str: str\n",
    "        :rtype: bool\n",
    "        \"\"\"\n",
    "        p = [c for c in pattern]\n",
    "        s = str.split(' ')\n",
    "        return len(set(zip(p,s))) == len(set(p)) == len(set(s)) if len(p) == len(s) else False"
   ]
  },
  {
   "cell_type": "code",
   "execution_count": 29,
   "metadata": {
    "collapsed": true
   },
   "outputs": [],
   "source": [
    "class Solution(object):\n",
    "    def wordPattern(self, pattern, str):\n",
    "        \"\"\"\n",
    "        :type pattern: str\n",
    "        :type str: str\n",
    "        :rtype: bool\n",
    "        \"\"\"\n",
    "        s = str.split(' ')\n",
    "        d1, d2 = {}, {}\n",
    "        for i, val in enumerate(pattern):\n",
    "            if val in d1:\n",
    "                d1[val].append(i)\n",
    "            else:\n",
    "                d1[val] = [i]\n",
    "        for i, val in enumerate(s):\n",
    "            if val in d2:\n",
    "                d2[val].append(i)\n",
    "            else:\n",
    "                d2[val] = [i]\n",
    "        return sorted(d1.values()) == sorted(d2.values())"
   ]
  },
  {
   "cell_type": "markdown",
   "metadata": {},
   "source": [
    "### 242. Valid Anagram"
   ]
  },
  {
   "cell_type": "markdown",
   "metadata": {},
   "source": [
    "Given two strings s and t , write a function to determine if t is an anagram of s."
   ]
  },
  {
   "cell_type": "markdown",
   "metadata": {},
   "source": [
    "Input: s = \"anagram\", t = \"nagaram\"\n",
    "Output: true\n",
    "    \n",
    "Input: s = \"rat\", t = \"car\"\n",
    "Output: false"
   ]
  },
  {
   "cell_type": "code",
   "execution_count": 16,
   "metadata": {
    "collapsed": true
   },
   "outputs": [],
   "source": [
    "class Solution(object):\n",
    "    def isAnagram(self, s, t):\n",
    "        \"\"\"\n",
    "        :type s: str\n",
    "        :type t: str\n",
    "        :rtype: bool\n",
    "        \"\"\"\n",
    "        d1 = {}\n",
    "        d2 = {}\n",
    "        for i in s:\n",
    "            if i in d1:\n",
    "                d1[i] += 1\n",
    "            else:\n",
    "                d1[i] = 1\n",
    "        for j in t:\n",
    "            if j in d2:\n",
    "                d2[j] += 1\n",
    "            else:\n",
    "                d2[j] = 1\n",
    "        return d1 == d2"
   ]
  },
  {
   "cell_type": "markdown",
   "metadata": {},
   "source": [
    "### 38. Count and Say"
   ]
  },
  {
   "cell_type": "markdown",
   "metadata": {},
   "source": [
    "The count-and-say sequence is the sequence of integers with the first five terms as following:"
   ]
  },
  {
   "cell_type": "markdown",
   "metadata": {},
   "source": [
    "1.     1\n",
    "2.     11\n",
    "3.     21\n",
    "4.     1211\n",
    "5.     111221"
   ]
  },
  {
   "cell_type": "markdown",
   "metadata": {},
   "source": [
    "1 is read off as \"one 1\" or 11.\n",
    "11 is read off as \"two 1s\" or 21.\n",
    "21 is read off as \"one 2, then one 1\" or 1211."
   ]
  },
  {
   "cell_type": "markdown",
   "metadata": {},
   "source": [
    "Given an integer n where 1 ≤ n ≤ 30, generate the nth term of the count-and-say sequence.\n",
    "\n",
    "Note: Each term of the sequence of integers will be represented as a string."
   ]
  },
  {
   "cell_type": "code",
   "execution_count": 17,
   "metadata": {
    "collapsed": true
   },
   "outputs": [],
   "source": [
    "class Solution(object):\n",
    "    def countAndSay(self, n):\n",
    "        \"\"\"\n",
    "        :type n: int\n",
    "        :rtype: str\n",
    "        \"\"\"\n",
    "        result = '1'\n",
    "        for _ in range(n-1):\n",
    "            prev = result\n",
    "            result = ''\n",
    "            j = 0\n",
    "            while j < len(prev):\n",
    "                cur = prev[j]\n",
    "                cnt = 1\n",
    "                j += 1\n",
    "                while j < len(prev) and prev[j] == cur:\n",
    "                    cnt += 1\n",
    "                    j += 1\n",
    "                result += str(cnt) + str(cur)\n",
    "        return result"
   ]
  },
  {
   "cell_type": "markdown",
   "metadata": {},
   "source": [
    "### 13. Roman to Integer"
   ]
  },
  {
   "cell_type": "markdown",
   "metadata": {},
   "source": [
    "Roman numerals are represented by seven different symbols: I, V, X, L, C, D and M."
   ]
  },
  {
   "cell_type": "markdown",
   "metadata": {},
   "source": [
    "Symbol       Value\n",
    "I             1\n",
    "V             5\n",
    "X             10\n",
    "L             50\n",
    "C             100\n",
    "D             500\n",
    "M             1000"
   ]
  },
  {
   "cell_type": "markdown",
   "metadata": {},
   "source": [
    "For example, two is written as II in Roman numeral, just two one's added together. Twelve is written as, XII, which is simply X + II. The number twenty seven is written as XXVII, which is XX + V + II.\n",
    "\n",
    "Roman numerals are usually written largest to smallest from left to right. However, the numeral for four is not IIII. Instead, the number four is written as IV. Because the one is before the five we subtract it making four. The same principle applies to the number nine, which is written as IX. There are six instances where subtraction is used:\n",
    "\n",
    "I can be placed before V (5) and X (10) to make 4 and 9. \n",
    "X can be placed before L (50) and C (100) to make 40 and 90. \n",
    "C can be placed before D (500) and M (1000) to make 400 and 900.\n",
    "Given a roman numeral, convert it to an integer. Input is guaranteed to be within the range from 1 to 3999."
   ]
  },
  {
   "cell_type": "code",
   "execution_count": 18,
   "metadata": {
    "collapsed": true
   },
   "outputs": [],
   "source": [
    "class Solution(object):\n",
    "    def romanToInt(self, s):\n",
    "        \"\"\"\n",
    "        :type s: str\n",
    "        :rtype: int\n",
    "        \"\"\"\n",
    "        d = {\"I\": 1, \"V\": 5, \"X\": 10, \"L\": 50, \"C\": 100, \"D\": 500, \"M\": 1000}\n",
    "        z = 0\n",
    "        for i in range(len(s)-1):\n",
    "            if d[s[i]] < d[s[i+1]]:\n",
    "                z -= d[s[i]]\n",
    "            else:\n",
    "                z += d[s[i]]\n",
    "        return z + d[s[-1]]"
   ]
  },
  {
   "cell_type": "markdown",
   "metadata": {},
   "source": [
    "### 9. Palindrome Number"
   ]
  },
  {
   "cell_type": "markdown",
   "metadata": {},
   "source": [
    "Determine whether an integer is a palindrome. An integer is a palindrome when it reads the same backward as forward."
   ]
  },
  {
   "cell_type": "markdown",
   "metadata": {},
   "source": [
    "Input: 121\n",
    "Output: true\n",
    "\n",
    "nput: -121\n",
    "Output: false\n",
    "Explanation: From left to right, it reads -121. From right to left, it becomes 121-. Therefore it is not a palindrome."
   ]
  },
  {
   "cell_type": "code",
   "execution_count": 19,
   "metadata": {
    "collapsed": true
   },
   "outputs": [],
   "source": [
    "class Solution(object):\n",
    "    def isPalindrome(self, x):\n",
    "        \"\"\"\n",
    "        :type x: int\n",
    "        :rtype: bool\n",
    "        \"\"\"\n",
    "        n = [c for c in str(x)]\n",
    "        return n==n[::-1]"
   ]
  },
  {
   "cell_type": "code",
   "execution_count": 33,
   "metadata": {
    "collapsed": true
   },
   "outputs": [],
   "source": [
    "class Solution(object):\n",
    "    def isPalindrome(self, x):\n",
    "        \"\"\"\n",
    "        :type x: int\n",
    "        :rtype: bool\n",
    "        \"\"\"\n",
    "        s = str(x)\n",
    "        i, j = 0, len(s)-1\n",
    "        while i < j:\n",
    "            if s[i] != s[j]:\n",
    "                return False\n",
    "            i += 1\n",
    "            j -= 1\n",
    "        return True"
   ]
  },
  {
   "cell_type": "markdown",
   "metadata": {},
   "source": [
    "### 20. Valid Parentheses"
   ]
  },
  {
   "cell_type": "markdown",
   "metadata": {},
   "source": [
    "Given a string containing just the characters '(', ')', '{', '}', '[' and ']', determine if the input string is valid.\n",
    "\n",
    "An input string is valid if:\n",
    "\n",
    "Open brackets must be closed by the same type of brackets.\n",
    "Open brackets must be closed in the correct order.\n",
    "Note that an empty string is also considered valid."
   ]
  },
  {
   "cell_type": "markdown",
   "metadata": {},
   "source": [
    "Input: \"()\"\n",
    "Output: true\n",
    "\n",
    "Input: \"()[]{}\"\n",
    "Output: true\n",
    "\n",
    "Input: \"([)]\"\n",
    "Output: false\n",
    "\n",
    "Input: \"{[]}\"\n",
    "Output: true"
   ]
  },
  {
   "cell_type": "code",
   "execution_count": 20,
   "metadata": {
    "collapsed": true
   },
   "outputs": [],
   "source": [
    "class Solution(object):\n",
    "    def isValid(self, s):\n",
    "        \"\"\"\n",
    "        :type s: str\n",
    "        :rtype: bool\n",
    "        \"\"\"\n",
    "        stack = []\n",
    "        dict = {\"]\":\"[\", \"}\":\"{\", \")\":\"(\"}\n",
    "        for char in s:\n",
    "            if char in dict.values():\n",
    "                stack.append(char)\n",
    "            elif char in dict.keys():\n",
    "                if stack == [] or dict[char] != stack.pop():\n",
    "                    return False\n",
    "            else:\n",
    "                return False\n",
    "        return stack == []"
   ]
  },
  {
   "cell_type": "markdown",
   "metadata": {
    "collapsed": true
   },
   "source": [
    "### 647. Palindromic Substrings"
   ]
  },
  {
   "cell_type": "markdown",
   "metadata": {},
   "source": [
    "Given a string, your task is to count how many palindromic substrings in this string.\n",
    "\n",
    "The substrings with different start indexes or end indexes are counted as different substrings even they consist of same characters."
   ]
  },
  {
   "cell_type": "markdown",
   "metadata": {},
   "source": [
    "Input: \"abc\"\n",
    "\n",
    "Output: 3\n",
    "\n",
    "Explanation: Three palindromic strings: \"a\", \"b\", \"c\"."
   ]
  },
  {
   "cell_type": "markdown",
   "metadata": {},
   "source": [
    "Input: \"aaa\"\n",
    "    \n",
    "Output: 6\n",
    "    \n",
    "Explanation: Six palindromic strings: \"a\", \"a\", \"a\", \"aa\", \"aa\", \"aaa\"."
   ]
  },
  {
   "cell_type": "code",
   "execution_count": 44,
   "metadata": {},
   "outputs": [
    {
     "name": "stdout",
     "output_type": "stream",
     "text": [
      "6\n"
     ]
    }
   ],
   "source": [
    "# brute force. complexity=O(n**3): two for loops for n*n, and s[i:j][::-1] is O(n)\n",
    "class Solution(object):\n",
    "    def countSubstrings(self, s):\n",
    "        \"\"\"\n",
    "        :type s: str\n",
    "        :rtype: int\n",
    "        \"\"\"\n",
    "        r = 0\n",
    "        for i in range(len(s)):\n",
    "            for j in range(i+1,len(s)+1):\n",
    "                if s[i:j]==s[i:j][::-1]:\n",
    "                    r += 1\n",
    "        return r"
   ]
  },
  {
   "cell_type": "code",
   "execution_count": 34,
   "metadata": {
    "collapsed": true
   },
   "outputs": [],
   "source": [
    "# find the center and expand. complexity: O(n**2)\n",
    "class Solution(object):\n",
    "    def countSubstrings(self, s):\n",
    "        \"\"\"\n",
    "        :type s: str\n",
    "        :rtype: int\n",
    "        \"\"\"\n",
    "        r = 0\n",
    "        l = len(s)\n",
    "        for i in range(l):\n",
    "            r += 1 # every char itself is a palindrome\n",
    "            left = i # scenario 1: the palindrome's length is even number\n",
    "            right = i+1\n",
    "            while left >= 0 and right < l and s[left]==s[right]:\n",
    "                left -= 1\n",
    "                right += 1\n",
    "                r += 1\n",
    "            left = i-1 # scenario 2: length is odd number\n",
    "            right = i + 1\n",
    "            while left >= 0 and right < l and s[left]==s[right]:\n",
    "                left -= 1\n",
    "                right += 1\n",
    "                r += 1\n",
    "        return r"
   ]
  },
  {
   "cell_type": "code",
   "execution_count": null,
   "metadata": {
    "collapsed": true
   },
   "outputs": [],
   "source": []
  }
 ],
 "metadata": {
  "kernelspec": {
   "display_name": "Python [default]",
   "language": "python",
   "name": "python2"
  },
  "language_info": {
   "codemirror_mode": {
    "name": "ipython",
    "version": 2
   },
   "file_extension": ".py",
   "mimetype": "text/x-python",
   "name": "python",
   "nbconvert_exporter": "python",
   "pygments_lexer": "ipython2",
   "version": "2.7.13"
  }
 },
 "nbformat": 4,
 "nbformat_minor": 2
}
